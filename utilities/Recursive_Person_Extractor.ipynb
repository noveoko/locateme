{
 "cells": [
  {
   "cell_type": "code",
   "execution_count": 36,
   "id": "384305ba-3d8d-430c-9c32-9c61f0a00777",
   "metadata": {},
   "outputs": [],
   "source": [
    "import requests\n",
    "import re\n",
    "from bs4 import BeautifulSoup as bs"
   ]
  },
  {
   "cell_type": "code",
   "execution_count": 37,
   "id": "31c1846d-f1ff-41db-8fd9-c2c08fdeda2b",
   "metadata": {},
   "outputs": [],
   "source": [
    "def get_all_links_on_page(url):\n",
    "    links = []\n",
    "    response = requests.get(url)\n",
    "    if response.status_code == 200:\n",
    "        #extract links\n",
    "        soup = bs(response.content, 'html.parser')\n",
    "        content = soup.find(\"div\", {\"id\":\"mw-content-text\"})\n",
    "        for link in content.find_all(\"a\"):\n",
    "            links.append(link)\n",
    "    return links"
   ]
  },
  {
   "cell_type": "code",
   "execution_count": 134,
   "id": "716a1d3c-1891-4d1a-9f08-b74b8afb13d8",
   "metadata": {},
   "outputs": [
    {
     "name": "stdout",
     "output_type": "stream",
     "text": [
      "[<a href=\"/wiki/Category:Lists_of_entertainers_lists\" title=\"Category:Lists of entertainers lists\">Lists of entertainers lists</a>, <a href=\"/wiki/Category:Lists_of_nobility_lists\" title=\"Category:Lists of nobility lists\">Lists of nobility lists</a>]\n"
     ]
    }
   ],
   "source": [
    "lists_of_people_links = get_all_links_on_page('https://en.wikipedia.org/wiki/Category:Lists_of_lists_of_people')\n",
    "print(lists_of_people_links[0:2])"
   ]
  },
  {
   "cell_type": "markdown",
   "id": "fac840b1-e3c0-4492-8a53-9822c46901f0",
   "metadata": {},
   "source": [
    "We are interested in 4 kinds of links\n",
    "\n",
    "* Lists of lists\n",
    "* List of lists\n",
    "* Lists of people\n",
    "* person"
   ]
  },
  {
   "cell_type": "code",
   "execution_count": 130,
   "id": "0a1e8b12-5785-416f-976f-622cf7d359d8",
   "metadata": {},
   "outputs": [],
   "source": [
    "def classify_link_type(wiki_link):\n",
    "    regex = r\"((?P<list_of_type>list[ _](?!lists).+)|(?P<lists_of_lists>lists[ _].+(?=lists).+)|(?P<lists_of_type>lists[ _](?!lists).+)|(?P<notable>notable.+(?!lists)))\"\n",
    "    try:\n",
    "        results =  re.search(regex, wiki_link, re.IGNORECASE| re.MULTILINE).groupdict()\n",
    "        match = [(k,v) for k,v in results.items() if v is not None].pop()\n",
    "        return match\n",
    "    except Exception as ee:\n",
    "        return 'unknown'"
   ]
  },
  {
   "cell_type": "code",
   "execution_count": 131,
   "id": "993aeb6f-8b7d-40da-9fcc-6e9f904819a2",
   "metadata": {},
   "outputs": [
    {
     "data": {
      "text/plain": [
       "('lists_of_type', 'Lists_of_Armenians')"
      ]
     },
     "execution_count": 131,
     "metadata": {},
     "output_type": "execute_result"
    }
   ],
   "source": [
    "classify_link_type('https://en.wikipedia.org/wiki/Lists_of_Armenians')"
   ]
  },
  {
   "cell_type": "markdown",
   "id": "f24a5c3f-3db6-4ef1-a815-3e9e732c593f",
   "metadata": {},
   "source": [
    "## The long path until PERSON page\n",
    "\n",
    "### Start\n",
    "https://en.wikipedia.org/wiki/Category:Lists_of_lists_of_people\n",
    "### Lists of lists\n",
    "https://en.wikipedia.org/wiki/Category:Lists_of_politicians_lists\n",
    "### Lists of type\n",
    "https://en.wikipedia.org/wiki/Lists_of_German_politicians\n",
    "### List of type\n",
    "https://en.wikipedia.org/wiki/List_of_German_National_People%27s_Party_politicians\n",
    "### Person\n",
    "https://en.wikipedia.org/wiki/Ernst_von_Dobsch%C3%BCtz"
   ]
  },
  {
   "cell_type": "code",
   "execution_count": 132,
   "id": "f49b339e-be8c-4b00-9147-a07cc8393912",
   "metadata": {},
   "outputs": [
    {
     "data": {
      "text/plain": [
       "'unknown'"
      ]
     },
     "execution_count": 132,
     "metadata": {},
     "output_type": "execute_result"
    }
   ],
   "source": [
    "classify_link_type('https://en.wikipedia.org/wiki/Ernst_von_Dobsch%C3%BCtz')"
   ]
  },
  {
   "cell_type": "code",
   "execution_count": 136,
   "id": "67423f89-d5c1-410d-911e-c7819d20e161",
   "metadata": {},
   "outputs": [
    {
     "name": "stdout",
     "output_type": "stream",
     "text": [
      "<a href=\"/wiki/Former_FBI_Ten_Most_Wanted_Fugitives\" title=\"Former FBI Ten Most Wanted Fugitives\">Former FBI Ten Most Wanted Fugitives</a>\n"
     ]
    }
   ],
   "source": [
    "for i in lists_of_people_links:\n",
    "    x = classify_link_type(i['href'])\n",
    "    if x == 'unknown':\n",
    "        print(i)"
   ]
  },
  {
   "cell_type": "code",
   "execution_count": null,
   "id": "1eb2851a-4b03-4801-936d-4c5a2a1bd9d8",
   "metadata": {},
   "outputs": [],
   "source": []
  }
 ],
 "metadata": {
  "kernelspec": {
   "display_name": "Python 3 (ipykernel)",
   "language": "python",
   "name": "python3"
  },
  "language_info": {
   "codemirror_mode": {
    "name": "ipython",
    "version": 3
   },
   "file_extension": ".py",
   "mimetype": "text/x-python",
   "name": "python",
   "nbconvert_exporter": "python",
   "pygments_lexer": "ipython3",
   "version": "3.10.1"
  }
 },
 "nbformat": 4,
 "nbformat_minor": 5
}
