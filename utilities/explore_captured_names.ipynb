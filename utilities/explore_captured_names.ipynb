{
 "cells": [
  {
   "cell_type": "code",
   "execution_count": 84,
   "outputs": [],
   "source": [
    "import random\n",
    "import requests\n",
    "import json\n",
    "import csv"
   ],
   "metadata": {
    "collapsed": false,
    "pycharm": {
     "name": "#%%\n"
    }
   }
  },
  {
   "cell_type": "code",
   "execution_count": 73,
   "outputs": [
    {
     "name": "stdout",
     "output_type": "stream",
     "text": [
      "born found 466887 out of 2704010\n",
      "['[[Hugh Jack]];(born 1929)', '[[Deborah Lurie]];(born 1972)', '[[Gary Yost]];(born 1959)', '[[Maggie Crotty]];(born 1948)', '[[Vasiliy Rats]];(born 1961)', '[[David Bargh]];(born 1962)', '[[Jimmy Algerino]];(born 1971)', '[[Didier Stil]];(born 1964)', '[[Carmine Abbagnale]];(born 1962)', '[[Solbi]];(born 1984)']\n"
     ]
    }
   ],
   "source": [
    "FILEPATH = 'wikipedia_names.txt'\n",
    "SEARCH_STRING = 'born'\n",
    "\n",
    "lines = 0\n",
    "found = 0\n",
    "\n",
    "matches = set()\n",
    "\n",
    "with open(FILEPATH,'r',encoding='utf-8') as f:\n",
    "    for line in f.readlines():\n",
    "        parts = line.split(\";\")\n",
    "        if SEARCH_STRING in parts[-1]:\n",
    "            found +=1\n",
    "            matches.add(line.strip())\n",
    "        lines +=1\n",
    "\n",
    "print(f\"{SEARCH_STRING} found {found} out of {lines}\")\n",
    "# 25 random lines\n",
    "matches = list(matches)\n",
    "random.shuffle(matches)\n",
    "random_items = matches[0:500]\n",
    "print(random_items[0:10])"
   ],
   "metadata": {
    "collapsed": false,
    "pycharm": {
     "name": "#%%\n"
    }
   }
  },
  {
   "cell_type": "code",
   "execution_count": 120,
   "outputs": [
    {
     "name": "stdout",
     "output_type": "stream",
     "text": [
      "{\"batchcomplete\":\"\",\"query\":{\"normalized\":[{\"from\":\"Deborah_Lurie\",\"to\":\"Deborah Lurie\"}],\"pages\":{\"23403146\":{\"pageid\":23403146,\"ns\":0,\"title\":\"Deborah Lurie\",\"extract\":\"Deborah Ruth Lurie (born March 9, 1974) is an American composer, arranger, and music producer. Her work has appeared in films such as Dear John, An Unfinished Life, Safe Haven, and 9. She has also been a string arranger for rock and pop performers such as Katy Perry, Kelly Clarkson, and The All-American Rejects. In 2015, she received the ASCAP Shirley Walker Award to honor her achievements contributing to the diversity of film and television music. She was one of the composers interviewed in Score: A Film Music Documentary. The Academy of Motion Picture Arts and Sciences extended membership to her in 2016 for her contributions to motion pictures.\"}}}}\n"
     ]
    }
   ],
   "source": [
    "# fetch first paragraph of every random person page (with born in data string)\n",
    "def get_page_via_api(wiki_keyword_raw):\n",
    "    prep = \"_\".join(wiki_keyword_raw.split(\" \"))\n",
    "    url = f'https://en.wikipedia.org/w/api.php?format=json&action=query&prop=extracts&explaintext=1&titles={prep}&exintro=1'\n",
    "    try:\n",
    "        response = requests.get(url)\n",
    "        if response.status_code == 200:\n",
    "            return response.text\n",
    "        else:\n",
    "            raise ValueError('No response!', response.status_code)\n",
    "    except Exception as ee:\n",
    "        print(ee)\n",
    "\n",
    "x = get_page_via_api('Deborah Lurie')\n",
    "print(x)\n",
    "assert 'The Academy of Motion Picture Arts and' in x"
   ],
   "metadata": {
    "collapsed": false,
    "pycharm": {
     "name": "#%%\n"
    }
   }
  },
  {
   "cell_type": "code",
   "execution_count": 121,
   "outputs": [
    {
     "name": "stdout",
     "output_type": "stream",
     "text": [
      "Deborah Ruth Lurie (born March 9, 1974) is an American composer, arranger, and music producer. Her work has appeared in films such as Dear John, An Unfinished Life, Safe Haven, and 9. She has also been a string arranger for rock and pop performers such as Katy Perry, Kelly Clarkson, and The All-American Rejects. In 2015, she received the ASCAP Shirley Walker Award to honor her achievements contributing to the diversity of film and television music. She was one of the composers interviewed in Score: A Film Music Documentary. The Academy of Motion Picture Arts and Sciences extended membership to her in 2016 for her contributions to motion pictures.\n"
     ]
    }
   ],
   "source": [
    "def get_wiki_extract(json_string):\n",
    "    r = json.loads(json_string)\n",
    "    target = r['query']['pages']\n",
    "    page_key = list(target.keys())[0]\n",
    "    page_text = target[page_key]['extract']\n",
    "    return page_text\n",
    "\n",
    "x2 = get_wiki_extract(x)\n",
    "print(x2)"
   ],
   "metadata": {
    "collapsed": false,
    "pycharm": {
     "name": "#%%\n"
    }
   }
  },
  {
   "cell_type": "code",
   "execution_count": 122,
   "outputs": [],
   "source": [
    "raw = get_page_via_api('Hugh Jack')"
   ],
   "metadata": {
    "collapsed": false,
    "pycharm": {
     "name": "#%%\n"
    }
   }
  },
  {
   "cell_type": "code",
   "execution_count": 123,
   "outputs": [
    {
     "name": "stdout",
     "output_type": "stream",
     "text": [
      "Hugh Reid Jack (19 December 1929 – 19 December 2018) was an Australian long jumper who competed in the 1956 Summer Olympics. Jack competed for Williamstown Athletics Club for 15 years and coached for more than 40 years.\n"
     ]
    }
   ],
   "source": [
    "snippet = get_wiki_extract(raw)\n",
    "print(snippet)"
   ],
   "metadata": {
    "collapsed": false,
    "pycharm": {
     "name": "#%%\n"
    }
   }
  },
  {
   "cell_type": "code",
   "execution_count": 146,
   "outputs": [],
   "source": [
    "def clean_name(name_string):\n",
    "    link, date = name_string.split(\";\")\n",
    "    link = link.replace('[','').replace(']','').strip()\n",
    "    date = date.replace('(','').replace(')','').strip()\n",
    "    return link, date"
   ],
   "metadata": {
    "collapsed": false,
    "pycharm": {
     "name": "#%%\n"
    }
   }
  },
  {
   "cell_type": "code",
   "execution_count": null,
   "outputs": [],
   "source": [
    "\n",
    "#build POSITIVE training set (actual people excerpts)\n",
    "sucesses = 0\n",
    "with open('classifier_people.csv','w', encoding='utf-8',newline='') as csvfile:\n",
    "    writer = csv.DictWriter(csvfile, fieldnames=['name','extract','class'])\n",
    "    writer.writeheader()\n",
    "    for i in matches:\n",
    "        try:\n",
    "            link, date = clean_name(i)\n",
    "            page = get_page_via_api(link)\n",
    "            if page:\n",
    "                extract = get_wiki_extract(page)\n",
    "                if extract:\n",
    "                    writer.writerow({'name':link, 'extract':extract, 'class':'person'})\n",
    "                    sucesses +=1\n",
    "                else:\n",
    "                    raise ValueError('extraction not found', link)\n",
    "            else:\n",
    "                raise ValueError('No page found')\n",
    "        except Exception as ee:\n",
    "            print(ee)\n",
    "\n",
    "print(sucesses)"
   ],
   "metadata": {
    "collapsed": false,
    "pycharm": {
     "name": "#%%\n"
    }
   }
  },
  {
   "cell_type": "code",
   "execution_count": 136,
   "outputs": [],
   "source": [
    "person_names = set()\n",
    "\n",
    "with open('classifier_people.csv','r', encoding='utf-8',newline='') as csvfile:\n",
    "    reader = csv.DictReader(csvfile, fieldnames=['name','extract','class'])\n",
    "    for row in reader:\n",
    "        person_names.add(row['name'])"
   ],
   "metadata": {
    "collapsed": false,
    "pycharm": {
     "name": "#%%\n"
    }
   }
  },
  {
   "cell_type": "code",
   "execution_count": 137,
   "outputs": [
    {
     "data": {
      "text/plain": "1651"
     },
     "execution_count": 137,
     "metadata": {},
     "output_type": "execute_result"
    }
   ],
   "source": [
    "len(person_names)"
   ],
   "metadata": {
    "collapsed": false,
    "pycharm": {
     "name": "#%%\n"
    }
   }
  },
  {
   "cell_type": "code",
   "execution_count": 140,
   "outputs": [
    {
     "data": {
      "text/plain": "['Sandip Nandy',\n 'Ahmad Alenemeh',\n 'Guram Makayev',\n 'Adem Zorgane',\n 'Béla Mavrák']"
     },
     "execution_count": 140,
     "metadata": {},
     "output_type": "execute_result"
    }
   ],
   "source": [
    "list(person_names)[0:5]"
   ],
   "metadata": {
    "collapsed": false,
    "pycharm": {
     "name": "#%%\n"
    }
   }
  },
  {
   "cell_type": "code",
   "execution_count": 150,
   "outputs": [
    {
     "name": "stdout",
     "output_type": "stream",
     "text": [
      "1\n",
      "2\n",
      "3\n",
      "4\n",
      "5\n",
      "6\n",
      "7\n",
      "8\n",
      "9\n",
      "10\n",
      "11\n",
      "12\n",
      "13\n",
      "14\n",
      "15\n",
      "16\n",
      "17\n",
      "18\n",
      "19\n",
      "20\n",
      "21\n",
      "22\n",
      "23\n",
      "24\n",
      "25\n",
      "26\n",
      "27\n",
      "28\n",
      "29\n",
      "30\n",
      "31\n",
      "32\n",
      "33\n",
      "34\n",
      "35\n",
      "36\n",
      "37\n",
      "38\n",
      "39\n",
      "40\n",
      "41\n",
      "42\n",
      "43\n",
      "44\n",
      "45\n",
      "46\n",
      "47\n",
      "48\n",
      "49\n",
      "50\n",
      "51\n",
      "52\n",
      "53\n",
      "54\n",
      "55\n",
      "56\n",
      "57\n",
      "58\n",
      "59\n",
      "60\n",
      "61\n",
      "62\n",
      "63\n",
      "64\n",
      "65\n",
      "66\n",
      "67\n",
      "68\n",
      "69\n",
      "70\n",
      "71\n",
      "72\n",
      "73\n",
      "74\n",
      "75\n",
      "76\n",
      "77\n",
      "78\n",
      "79\n",
      "80\n",
      "81\n",
      "82\n",
      "83\n",
      "84\n",
      "85\n",
      "86\n",
      "87\n",
      "88\n",
      "89\n",
      "90\n",
      "91\n",
      "92\n",
      "93\n",
      "94\n",
      "95\n",
      "96\n",
      "97\n",
      "98\n",
      "99\n",
      "100\n",
      "101\n",
      "102\n",
      "103\n",
      "104\n",
      "105\n",
      "106\n",
      "107\n",
      "108\n",
      "109\n",
      "110\n",
      "111\n",
      "112\n",
      "113\n",
      "114\n",
      "115\n",
      "116\n",
      "117\n",
      "118\n",
      "119\n",
      "120\n",
      "121\n",
      "122\n",
      "123\n",
      "124\n",
      "125\n",
      "126\n",
      "127\n",
      "128\n",
      "129\n",
      "130\n",
      "131\n",
      "131\n",
      "132\n",
      "133\n",
      "134\n",
      "135\n",
      "136\n",
      "137\n",
      "138\n",
      "139\n",
      "140\n",
      "141\n",
      "142\n",
      "143\n",
      "144\n",
      "145\n",
      "146\n",
      "147\n",
      "148\n",
      "149\n",
      "150\n",
      "151\n",
      "152\n",
      "153\n",
      "154\n",
      "155\n",
      "156\n",
      "157\n",
      "158\n",
      "159\n",
      "160\n",
      "161\n",
      "162\n",
      "163\n",
      "164\n",
      "165\n",
      "166\n",
      "167\n",
      "168\n",
      "169\n",
      "170\n",
      "171\n",
      "172\n",
      "173\n",
      "174\n",
      "175\n",
      "176\n",
      "177\n",
      "178\n",
      "179\n",
      "180\n",
      "181\n",
      "182\n",
      "183\n",
      "184\n",
      "185\n",
      "186\n",
      "187\n",
      "188\n",
      "189\n",
      "190\n",
      "191\n",
      "192\n",
      "193\n",
      "194\n",
      "195\n",
      "196\n",
      "197\n",
      "198\n",
      "199\n",
      "200\n"
     ]
    },
    {
     "ename": "IndexError",
     "evalue": "string index out of range",
     "output_type": "error",
     "traceback": [
      "\u001B[1;31m---------------------------------------------------------------------------\u001B[0m",
      "\u001B[1;31mIndexError\u001B[0m                                Traceback (most recent call last)",
      "Input \u001B[1;32mIn [150]\u001B[0m, in \u001B[0;36m<cell line: 4>\u001B[1;34m()\u001B[0m\n\u001B[0;32m      7\u001B[0m line, date \u001B[38;5;241m=\u001B[39m clean_name(line)\n\u001B[0;32m      8\u001B[0m decision \u001B[38;5;241m=\u001B[39m \u001B[38;5;28minput\u001B[39m(\u001B[38;5;124mf\u001B[39m\u001B[38;5;124m'\u001B[39m\u001B[38;5;124mA person:\u001B[39m\u001B[38;5;132;01m{\u001B[39;00mline\u001B[38;5;132;01m}\u001B[39;00m\u001B[38;5;124m? (y) (n) TALLY: \u001B[39m\u001B[38;5;132;01m{\u001B[39;00m\u001B[38;5;28mlen\u001B[39m(\u001B[38;5;28mlist\u001B[39m(not_people))\u001B[38;5;132;01m}\u001B[39;00m\u001B[38;5;124m'\u001B[39m)\n\u001B[1;32m----> 9\u001B[0m \u001B[38;5;28;01mif\u001B[39;00m \u001B[38;5;129;01mnot\u001B[39;00m \u001B[43mdecision\u001B[49m\u001B[38;5;241;43m.\u001B[39;49m\u001B[43mlower\u001B[49m\u001B[43m(\u001B[49m\u001B[43m)\u001B[49m\u001B[43m[\u001B[49m\u001B[38;5;241;43m0\u001B[39;49m\u001B[43m]\u001B[49m \u001B[38;5;241m==\u001B[39m \u001B[38;5;124m'\u001B[39m\u001B[38;5;124my\u001B[39m\u001B[38;5;124m'\u001B[39m:\n\u001B[0;32m     10\u001B[0m     not_people\u001B[38;5;241m.\u001B[39madd(line)\n\u001B[0;32m     11\u001B[0m     \u001B[38;5;28mprint\u001B[39m(\u001B[38;5;28mlen\u001B[39m(\u001B[38;5;28mlist\u001B[39m(not_people)))\n",
      "\u001B[1;31mIndexError\u001B[0m: string index out of range"
     ]
    }
   ],
   "source": [
    "#get list of non person names\n",
    "not_people = set()\n",
    "\n",
    "with open('wikipedia_names.txt','r',encoding='utf-8', newline='')as f:\n",
    "    for line in f.readlines():\n",
    "        if 'born' not in line:\n",
    "            line, date = clean_name(line)\n",
    "            decision = input(f'A person:{line}? (y) (n) TALLY: {len(list(not_people))}')\n",
    "            if not decision.lower()[0] == 'y':\n",
    "                not_people.add(line)\n",
    "                print(len(list(not_people)))"
   ],
   "metadata": {
    "collapsed": false,
    "pycharm": {
     "name": "#%%\n"
    }
   }
  },
  {
   "cell_type": "code",
   "execution_count": 158,
   "outputs": [
    {
     "name": "stdout",
     "output_type": "stream",
     "text": [
      "('extraction not found', 'Pink_Panther_(character)|Pink_Panther')\n",
      "('extraction not found', 'CNRS_Gold_medal')\n",
      "('extraction not found', 'Karl-Ferdinands-Universität|Charles_University_in_Prague')\n",
      "('extraction not found', 'ISO_646')\n",
      "'extract'\n",
      "'extract'\n",
      "'extract'\n",
      "('extraction not found', 'ForMemRS')\n",
      "('extraction not found', '1,000,000,000_(number)|billion')\n",
      "('extraction not found', 'Model_M')\n",
      "('extraction not found', 'APG_II_system|APG_II')\n",
      "'extract'\n",
      "('extraction not found', 'AWI0005x3s')\n",
      "('extraction not found', 'Algerian_Revolution')\n",
      "'extract'\n",
      "'extract'\n",
      "('extraction not found', 'Stedelijk_Museum_Amsterdam|Stedelijk_Museum')\n",
      "'extract'\n",
      "('extraction not found', 'Society_for_the_Propagation_of_the_Gospel_in_Foreign_Parts')\n",
      "'extract'\n",
      "'extract'\n",
      "'extract'\n",
      "'extract'\n",
      "('extraction not found', 'First_World_War')\n",
      "('extraction not found', 'Córdoba,_Spain|Cordoba')\n",
      "('extraction not found', 'Andrey_Markov_(Soviet_mathematician)|Andrei_Andreyevich_Markov')\n",
      "'extract'\n",
      "('extraction not found', '501(c)')\n",
      "'extract'\n",
      "'extract'\n",
      "'extract'\n",
      "('extraction not found', 'Human_Development_Index|HDI')\n",
      "'extract'\n",
      "('extraction not found', '(c)')\n",
      "('extraction not found', 'Raft_of_the_Medusa')\n",
      "('extraction not found', 'Kepler-86|PH2b')\n",
      "'extract'\n",
      "('extraction not found', 'Austro-Hungarian_Empire')\n",
      "'extract'\n",
      "'extract'\n",
      "'extract'\n",
      "'extract'\n",
      "'extract'\n",
      "'extract'\n",
      "('extraction not found', 'Russian_SFSR')\n",
      "'extract'\n",
      "'extract'\n",
      "('extraction not found', 'List_of_counties_of_Albania_by_Human_Development_Index|HDI')\n",
      "('extraction not found', 'Myelin_sheath')\n",
      "('extraction not found', 'La_Meije')\n",
      "'extract'\n",
      "'extract'\n",
      "('extraction not found', 'APG_IV')\n",
      "'extract'\n",
      "'extract'\n",
      "'extract'\n",
      "'extract'\n",
      "('extraction not found', 'Russell_paradox')\n",
      "('extraction not found', 'List_of_countries_by_inequality-adjusted_HDI|IHDI')\n",
      "'extract'\n",
      "('extraction not found', 'Jacquard_loom')\n",
      "139\n"
     ]
    }
   ],
   "source": [
    "#build NEGATIVE training set (actual people excerpts)\n",
    "sucesses = 0\n",
    "with open('classifier_not_people.csv','w', encoding='utf-8',newline='') as csvfile:\n",
    "    writer = csv.DictWriter(csvfile, fieldnames=['name','extract','class'])\n",
    "    writer.writeheader()\n",
    "    for i in not_people:\n",
    "        try:\n",
    "            link = i.replace(\" \", \"_\")\n",
    "            page = get_page_via_api(link)\n",
    "            if page:\n",
    "                extract = get_wiki_extract(page)\n",
    "                if extract:\n",
    "                    writer.writerow({'name':link, 'extract':extract, 'class':'person'})\n",
    "                    sucesses +=1\n",
    "                else:\n",
    "                    raise ValueError('extraction not found', link)\n",
    "            else:\n",
    "                raise ValueError('No page found')\n",
    "        except Exception as ee:\n",
    "            print(ee)\n",
    "\n",
    "print(sucesses)"
   ],
   "metadata": {
    "collapsed": false,
    "pycharm": {
     "name": "#%%\n"
    }
   }
  },
  {
   "cell_type": "code",
   "execution_count": 156,
   "outputs": [
    {
     "data": {
      "text/plain": "0"
     },
     "execution_count": 156,
     "metadata": {},
     "output_type": "execute_result"
    }
   ],
   "source": [
    "sucesses"
   ],
   "metadata": {
    "collapsed": false,
    "pycharm": {
     "name": "#%%\n"
    }
   }
  },
  {
   "cell_type": "code",
   "execution_count": 179,
   "outputs": [],
   "source": [
    "MAX = 85\n",
    "people = []\n",
    "with open('classifier_people.csv','r',encoding='utf-8')as pf1:\n",
    "    reader = csv.DictReader(pf1, fieldnames=['name','extract','class'])\n",
    "    for count, row in enumerate(reader):\n",
    "        if count > 0:\n",
    "            people.append(row)\n",
    "\n",
    "not_people = []\n",
    "with open('classifier_not_people.csv','r',encoding='utf-8')as pf1:\n",
    "    reader = csv.DictReader(pf1, fieldnames=['name','extract','class'])\n",
    "    for count, row in enumerate(reader):\n",
    "        if count > 0:\n",
    "            not_people.append(row)"
   ],
   "metadata": {
    "collapsed": false,
    "pycharm": {
     "name": "#%%\n"
    }
   }
  },
  {
   "cell_type": "code",
   "execution_count": 180,
   "outputs": [
    {
     "data": {
      "text/plain": "[{'name': 'Hugh Jack',\n  'extract': 'Hugh Reid Jack (19 December 1929 – 19 December 2018) was an Australian long jumper who competed in the 1956 Summer Olympics. Jack competed for Williamstown Athletics Club for 15 years and coached for more than 40 years.',\n  'class': 'person'},\n {'name': 'Deborah Lurie',\n  'extract': 'Deborah Ruth Lurie (born March 9, 1974) is an American composer, arranger, and music producer. Her work has appeared in films such as Dear John, An Unfinished Life, Safe Haven, and 9. She has also been a string arranger for rock and pop performers such as Katy Perry, Kelly Clarkson, and The All-American Rejects. In 2015, she received the ASCAP Shirley Walker Award to honor her achievements contributing to the diversity of film and television music. She was one of the composers interviewed in Score: A Film Music Documentary. The Academy of Motion Picture Arts and Sciences extended membership to her in 2016 for her contributions to motion pictures.',\n  'class': 'person'},\n {'name': 'Gary Yost',\n  'extract': 'Gary Yost (born April 5, 1959) is an American filmmaker and software designer, best known for leading the team that created Autodesk 3ds Max.',\n  'class': 'person'},\n {'name': 'Maggie Crotty',\n  'extract': 'Mary Margaret \"Maggie\" Crotty (née Kunis; October 16, 1948 – November 5, 2020) was an American politician who served as the Bremen Township Supervisor from 2005 to 2020 and as a Democratic member of the Illinois Senate, representing the 19th district from 2003 to 2013. She was Chairperson of the Elections Committee, Vice-Chairperson of the Local Government Committee, and was a member of the Higher Education, Labor, and Revenue Committees.  She announced she would not be seeking reelection after her term expired in 2013.',\n  'class': 'person'},\n {'name': 'David Bargh',\n  'extract': 'David Andrew Bargh (born 14 March 1962) is a former speedway rider from New Zealand.',\n  'class': 'person'}]"
     },
     "execution_count": 180,
     "metadata": {},
     "output_type": "execute_result"
    }
   ],
   "source": [
    "people[0:5]"
   ],
   "metadata": {
    "collapsed": false,
    "pycharm": {
     "name": "#%%\n"
    }
   }
  },
  {
   "cell_type": "code",
   "execution_count": 181,
   "outputs": [
    {
     "data": {
      "text/plain": "[{'name': 'World_Health_Organization',\n  'extract': 'The World Health Organization (WHO) is a specialized agency of the United Nations responsible for international public health. The WHO Constitution states its main objective as \"the attainment by all peoples of the highest possible level of health\". Headquartered in Geneva, Switzerland, it has six regional offices and 150 field offices worldwide.\\nThe WHO was established on 7 April 1948. The first meeting of the World Health Assembly (WHA), the agency\\'s governing body, took place on 24 July of that year. The WHO incorporated the assets, personnel, and duties of the League of Nations\\' Health Organization and the Office International d\\'Hygiène Publique, including the International Classification of Diseases (ICD). Its work began in earnest in 1951 after a significant infusion of financial and technical resources.The WHO\\'s mandate seeks and includes: working worldwide to promote health, keeping the world safe, and serve the vulnerable. It advocates that a billion more people should have: universal health care coverage, engagement with the monitoring of public health risks, coordinating responses to health emergencies, and promoting health and well-being. It provides technical assistance to countries, sets international health standards, and collects data on global health issues. A publication, the World Health Report, provides assessments of worldwide health topics. The WHO also serves as a forum for discussions of health issues.The WHO has played a leading role in several public health achievements, most notably the eradication of smallpox, the near-eradication of polio, and the development of an Ebola vaccine. Its current priorities include communicable diseases, particularly HIV/AIDS, Ebola, COVID-19, malaria and tuberculosis; non-communicable diseases such as heart disease and cancer; healthy diet, nutrition, and food security; occupational health; and substance abuse. Its World Health Assembly, the agency\\'s decision-making body, elects and advises an executive board made up of 34 health specialists. It selects the director-general, sets goals and priorities, and approves the budget and activities. The current director-general is Tedros Adhanom Ghebreyesus of Ethiopia.The WHO relies on contributions from member states (both assessed and voluntary) and private donors for funding. Its total approved budget for 2020–2021 is over $7.2 billion, of which the majority comes from voluntary contributions from member states. Contributions are assessed by a formula that includes GDP per capita. Among the largest contributors were Germany (which contributed 12.18% of the budget), the Bill & Melinda Gates Foundation (11.65%), and the United States (7.85%).Since the late 20th century, the rise of new actors engaged in global health such as the World Bank, the Bill & Melinda Gates Foundation, the US President\\'s Emergency Plan for AIDS Relief (PEPFAR) and dozens of public-private partnerships for global health have weakened the WHO\\'s role as a coordinator and policy leader in the field.',\n  'class': 'not_person'},\n {'name': 'Sylvester_the_Cat',\n  'extract': 'Sylvester Pussycat, Sr. is a fictional character, an anthropomorphic tuxedo cat in the Looney Tunes and Merrie Melodies series of cartoons. Most of his appearances have him often chasing Tweety, Speedy Gonzales, or Hippety Hopper. He appeared in 103 cartoons in the golden age of American animation, lagging only behind superstars Bugs Bunny, Porky Pig, and Daffy Duck. Three of his cartoons won Academy Awards, the most for any starring a Looney Tunes character: they are Tweetie Pie, Speedy Gonzales, and Birds Anonymous.\\n\\n',\n  'class': 'not_person'},\n {'name': 'Tom_and_Jerry',\n  'extract': \"Tom and Jerry is an American animated media franchise and series of comedy short films created in 1940 by William Hanna and Joseph Barbera. Best known for its 161 theatrical short films by Metro-Goldwyn-Mayer, the series centers on the rivalry between the titular characters of a cat named Tom and a mouse named Jerry. Many shorts also feature several recurring characters.\\nIn its original run, Hanna and Barbera produced 114 Tom and Jerry shorts for MGM from 1940 to 1958. During this time, they won seven Academy Awards for Best Animated Short Film, tying for first place with Walt Disney's Silly Symphonies with the most awards in the category. After the MGM cartoon studio closed in 1957, MGM revived the series with Gene Deitch directing an additional 13 Tom and Jerry shorts for Rembrandt Films from 1961 to 1962. Tom and Jerry then became the highest-grossing animated short film series of that time, overtaking Looney Tunes. Chuck Jones then produced another 34 shorts with Sib Tower 12 Productions between 1963 and 1967. Three more shorts were produced, The Mansion Cat in 2001, The Karate Guard in 2005, and A Fundraising Adventure in 2014, making a total of 164 shorts.\\nA number of spin-offs have been made, including the television series The Tom and Jerry Show (1975), The Tom and Jerry Comedy Show (1980–1982), Tom & Jerry Kids (1990–1993), Tom and Jerry Tales (2006–2008), and The Tom and Jerry Show (2014–2021). The first feature-length film based on the series, Tom and Jerry: The Movie, was released in 1992, and 13 direct-to-video films have been produced since 2002, with a live-action/animated hybrid film released in 2021. A musical adaptation of the series, titled Tom and Jerry: Purr-Chance to Dream, debuted in Japan in 2019 in advance of Tom and Jerry's 80th anniversary.\\nTom and Jerry has been on Boomerang ever since the channel's launch on April 1, 2000.\",\n  'class': 'not_person'},\n {'name': 'Cygnus_A',\n  'extract': 'Cygnus A (3C 405) is a radio galaxy, and one of the strongest radio sources in the sky. A concentrated radio source in Cygnus was discovered by Grote Reber in 1939. In 1946 Stanley Hey and his colleague James Phillips identified that the source scintillated rapidly, and must therefore be a compact object. In 1951, Cygnus A, along with Cassiopeia A, and Puppis A were the first \"radio stars\" identified with an optical source. Of these, Cygnus A became the first radio galaxy, the other two being nebulae inside the Milky Way. In 1953 Roger Jennison and M K Das Gupta showed it to be a double source. Like all radio galaxies, it contains an active galactic nucleus. The supermassive black hole at the core has a mass of (2.5±0.7)×109 M☉.Images of the galaxy in the radio portion of the electromagnetic spectrum show two jets protruding in opposite directions from the galaxy\\'s center. These jets extend many times the width of the portion of the host galaxy which emits radiation at visible wavelengths. At the ends of the jets are two lobes with \"hot spots\" of more intense radiation at their edges. These hot spots are formed when material from the jets collides with the surrounding intergalactic medium.In 2016, a radio transient was discovered 460 parsecs away from the center of Cygnus A. Between 1989 and 2016, the object, cospatial with a previously-known infrared source, exhibited at least an eightfold increase in radio flux density, with comparable luminosity to the brightest known supernova. Due to the lack of measurements in the intervening years, the rate of brightening is unknown, but the object has remained at a relatively constant flux density since its discovery. The data are consistent with a second supermassive black hole orbiting the primary object, with the secondary having undergone a rapid accretion rate increase. The inferred orbital timescale is of the same order as the activity of the primary source, suggesting the secondary may be perturbing the primary and causing the outflows.',\n  'class': 'not_person'},\n {'name': 'K2-288Bb',\n  'extract': \"K2-288Bb (previously designated EPIC 210693462 b) is a super-Earth or mini-Neptune exoplanet orbiting in the habitable zone of K2-288B, a low-mass M-dwarf star in a binary star system in the constellation of Taurus about 226 light-years from Earth. It was discovered by citizen scientists while analysing data from the Kepler spacecraft's K2 mission, and was announced on 7 January 2019. K2-288 is the third transiting planet system identified by the Exoplanet Explorers program, after the six planets of K2-138 and the three planets of K2-233.K2-288Bb is likely to be in the habitable zone of its host star, and thus may be capable on supporting life, though the planet's composition is unknown.\",\n  'class': 'not_person'}]"
     },
     "execution_count": 181,
     "metadata": {},
     "output_type": "execute_result"
    }
   ],
   "source": [
    "not_people[0:5]"
   ],
   "metadata": {
    "collapsed": false,
    "pycharm": {
     "name": "#%%\n"
    }
   }
  },
  {
   "cell_type": "code",
   "execution_count": 184,
   "outputs": [],
   "source": [
    "#CREATE BINARY text classification csv\n",
    "with open('binary_classification_data.csv','w', encoding='utf-8') as f:\n",
    "    writer = csv.DictWriter(f, fieldnames=['name','extract','class'])\n",
    "    for i in people:\n",
    "        writer.writerow(i)\n",
    "    for i2 in not_people:\n",
    "        writer.writerow(i2)\n"
   ],
   "metadata": {
    "collapsed": false,
    "pycharm": {
     "name": "#%%\n"
    }
   }
  },
  {
   "cell_type": "code",
   "execution_count": 197,
   "outputs": [
    {
     "ename": "ModuleNotFoundError",
     "evalue": "No module named 'ludwig'",
     "output_type": "error",
     "traceback": [
      "\u001B[1;31m---------------------------------------------------------------------------\u001B[0m",
      "\u001B[1;31mModuleNotFoundError\u001B[0m                       Traceback (most recent call last)",
      "Input \u001B[1;32mIn [197]\u001B[0m, in \u001B[0;36m<cell line: 1>\u001B[1;34m()\u001B[0m\n\u001B[1;32m----> 1\u001B[0m \u001B[38;5;28;01mfrom\u001B[39;00m \u001B[38;5;21;01mludwig\u001B[39;00m\u001B[38;5;21;01m.\u001B[39;00m\u001B[38;5;21;01mapi\u001B[39;00m \u001B[38;5;28;01mimport\u001B[39;00m LudwigModel\n\u001B[0;32m      2\u001B[0m \u001B[38;5;28;01mimport\u001B[39;00m \u001B[38;5;21;01mpandas\u001B[39;00m \u001B[38;5;28;01mas\u001B[39;00m \u001B[38;5;21;01mpd\u001B[39;00m\n\u001B[0;32m      4\u001B[0m \u001B[38;5;66;03m# train a model\u001B[39;00m\n",
      "\u001B[1;31mModuleNotFoundError\u001B[0m: No module named 'ludwig'"
     ]
    }
   ],
   "source": [
    "from ludwig.api import LudwigModel\n",
    "import pandas as pd\n",
    "\n",
    "# train a model\n",
    "config = {\"input_features\":[{\"name\": \"extract\",\"type\": \"text\"},{\"name\":\"class\",\"type\":\"category\"}],\n",
    "          \"output_features\":[{\"name\":\"class\",\"type\":\"category\"}]}\n",
    "\n",
    "model = LudwigModel(config)\n",
    "data = pd.read_csv(\"D:/WikipediaDUMP/NLP LAB/train_the_model/binary_classification_data.csv\")\n",
    "train_stats, _, model_dir = model.train(data)\n",
    "\n",
    "# or load a model\n",
    "model = LudwigModel.load(model_dir)\n",
    "\n",
    "# obtain predictions\n",
    "predictions = model.predict(data)"
   ],
   "metadata": {
    "collapsed": false,
    "pycharm": {
     "name": "#%%\n"
    }
   }
  },
  {
   "cell_type": "code",
   "execution_count": null,
   "outputs": [],
   "source": [],
   "metadata": {
    "collapsed": false,
    "pycharm": {
     "name": "#%%\n"
    }
   }
  }
 ],
 "metadata": {
  "kernelspec": {
   "display_name": "Python 3",
   "language": "python",
   "name": "python3"
  },
  "language_info": {
   "codemirror_mode": {
    "name": "ipython",
    "version": 2
   },
   "file_extension": ".py",
   "mimetype": "text/x-python",
   "name": "python",
   "nbconvert_exporter": "python",
   "pygments_lexer": "ipython2",
   "version": "2.7.6"
  }
 },
 "nbformat": 4,
 "nbformat_minor": 0
}
